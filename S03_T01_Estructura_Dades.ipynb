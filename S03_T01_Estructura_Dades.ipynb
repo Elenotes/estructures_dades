{
 "cells": [
  {
   "cell_type": "markdown",
   "id": "fda36cef",
   "metadata": {},
   "source": [
    "# Exercicis S03 T01: Estructures de dades"
   ]
  },
  {
   "cell_type": "markdown",
   "id": "aeb90679",
   "metadata": {},
   "source": [
    "### Nivell 1 - Exercici 1\n",
    "\n",
    "Crea una llista que agrupi els mesos de l’any en trimestres (1T: Gener, Febrer i Març, 2T: Abril, Maig, Juny...), és a dir, una llista amb 4 llistes dins."
   ]
  },
  {
   "cell_type": "code",
   "execution_count": 1,
   "id": "7d3fbd73",
   "metadata": {},
   "outputs": [],
   "source": [
    "trimestres = [[\"Gener\", \"Febrer\", \"Març\"], \n",
    "              [\"Abril\", \"Maig\", \"Juny\"], \n",
    "              [\"Juliol\", \"Agost\", \"Setembre\"], \n",
    "              [\"Octubre\", \"Novembre\", \"Desembre\"]]\n",
    "\n",
    "#print(trimestres)"
   ]
  },
  {
   "cell_type": "markdown",
   "id": "a6c938d5",
   "metadata": {},
   "source": [
    "### Nivell 1 - Exercici 2\n",
    "\n",
    "Crea un codi que et permeti accedir a:\n",
    "\n",
    "+ El segon mes del primer trimestre\n",
    "+ Els mesos del primer trimestre\n",
    "+ Setembre i octubre\n"
   ]
  },
  {
   "cell_type": "code",
   "execution_count": 2,
   "id": "004d05b8",
   "metadata": {},
   "outputs": [
    {
     "name": "stdout",
     "output_type": "stream",
     "text": [
      "Febrer\n"
     ]
    }
   ],
   "source": [
    "# segon mes del primer trimestre --> Febrer\n",
    "print(trimestres[0][1])"
   ]
  },
  {
   "cell_type": "code",
   "execution_count": 3,
   "id": "b58d4212",
   "metadata": {},
   "outputs": [
    {
     "name": "stdout",
     "output_type": "stream",
     "text": [
      "['Gener', 'Febrer', 'Març']\n",
      "Gener\n",
      "Febrer\n",
      "Març\n"
     ]
    }
   ],
   "source": [
    "# els mesos del primer trimestre imprimint la llista del primer trimestre\n",
    "print(trimestres[0])\n",
    "\n",
    "# imprimir els mesos del primer trimestre per separat\n",
    "for mes in trimestres[0]:\n",
    "    print(mes)"
   ]
  },
  {
   "cell_type": "code",
   "execution_count": 4,
   "id": "6c43bf04",
   "metadata": {},
   "outputs": [
    {
     "name": "stdout",
     "output_type": "stream",
     "text": [
      "Setembre\n",
      "Octubre\n",
      "Setembre i Octubre\n"
     ]
    }
   ],
   "source": [
    "# setembre i octubre\n",
    "print(trimestres[2][-1])\n",
    "print(trimestres[3][0])\n",
    "\n",
    "# o bé\n",
    "print(trimestres[2][-1],\"i\", trimestres[3][0])"
   ]
  },
  {
   "cell_type": "markdown",
   "id": "64b21837",
   "metadata": {},
   "source": [
    "### Nivell 1 - Exercici 3\n",
    "\n",
    "Crea una llista amb nombres desordenats i respon a les següents preguntes:\n",
    "\n",
    "+ Quants números hi ha?\n",
    "+ Quantes vegades apareix el número 3\n",
    "+ Quantes vegades apareixen els nombres 3 i 4?\n",
    "+ Quin és el número més gran?\n",
    "+ Quins són els 3 números més petits?\n",
    "+ Quin és el rang d’aquesta llista?\n"
   ]
  },
  {
   "cell_type": "code",
   "execution_count": 19,
   "id": "c4a38149",
   "metadata": {},
   "outputs": [
    {
     "name": "stdout",
     "output_type": "stream",
     "text": [
      "Quants números ha de tenir la llista? 8\n",
      "[4, 4, 7, 7, 3, 4, 3, 4]\n"
     ]
    }
   ],
   "source": [
    "# creem una lista de números desordenats amb el modul random\n",
    "# per tal que hi pugui haver números repetits,la fem de len 10, i numeros aleatoris fins al 9\n",
    "\n",
    "import random as rd\n",
    "\n",
    "n = int(input(\"Quants números ha de tenir la llista? \"))\n",
    "llista = []\n",
    "\n",
    "for i in range(n):\n",
    "    llista.append(rd.randrange(1,n))\n",
    "\n",
    "print(llista)    "
   ]
  },
  {
   "cell_type": "code",
   "execution_count": 20,
   "id": "1c8fae2b",
   "metadata": {},
   "outputs": [
    {
     "name": "stdout",
     "output_type": "stream",
     "text": [
      "8\n"
     ]
    }
   ],
   "source": [
    "# quants números hi ha\n",
    "print(len(llista))"
   ]
  },
  {
   "cell_type": "code",
   "execution_count": 21,
   "id": "96dffaef",
   "metadata": {},
   "outputs": [
    {
     "name": "stdout",
     "output_type": "stream",
     "text": [
      "2\n"
     ]
    }
   ],
   "source": [
    "# quantes vegades apareix el número 3\n",
    "print(llista.count(3))"
   ]
  },
  {
   "cell_type": "code",
   "execution_count": 22,
   "id": "002cbf4d",
   "metadata": {},
   "outputs": [
    {
     "name": "stdout",
     "output_type": "stream",
     "text": [
      "El 3 apareix 2 vegades i el 4, 4 vegades.\n"
     ]
    }
   ],
   "source": [
    "# quantes vegades apareixen els nombres 3 i 4\n",
    "tres = llista.count(3)\n",
    "quatre = llista.count(4)\n",
    "\n",
    "print(\"El 3 apareix {} vegades i el 4, {} vegades.\".format(tres, quatre))"
   ]
  },
  {
   "cell_type": "code",
   "execution_count": 23,
   "id": "f6418249",
   "metadata": {},
   "outputs": [
    {
     "name": "stdout",
     "output_type": "stream",
     "text": [
      "7\n"
     ]
    }
   ],
   "source": [
    "# quin és el número més gran?\n",
    "print(max(llista))"
   ]
  },
  {
   "cell_type": "code",
   "execution_count": 24,
   "id": "567d73d1",
   "metadata": {},
   "outputs": [
    {
     "name": "stdout",
     "output_type": "stream",
     "text": [
      "[3, 4, 7]\n",
      "Els 3 números més petits són:  [3, 4, 7]\n"
     ]
    }
   ],
   "source": [
    "# quins són els 3 números més petits?\n",
    "\n",
    "# Per treure els duplicats, convertim la llista en un set i després a llista un altre cop\n",
    "llista2 = list(set(llista))\n",
    "print(llista2)\n",
    "\n",
    "print(\"Els 3 números més petits són: \", llista2[:3])\n"
   ]
  },
  {
   "cell_type": "code",
   "execution_count": 26,
   "id": "c21204dd",
   "metadata": {},
   "outputs": [
    {
     "name": "stdout",
     "output_type": "stream",
     "text": [
      "La llista té un rang del 3 al 7.\n"
     ]
    }
   ],
   "source": [
    "#quin és el rang d’aquesta llista\n",
    "print(\"La llista té un rang del {} al {}.\".format(min(llista), max(llista)))\n"
   ]
  },
  {
   "cell_type": "markdown",
   "id": "583bc17c",
   "metadata": {},
   "source": [
    "### Nivell 1 - Exercici 4\n",
    "\n",
    "Crea un diccionari de la següent forma i respon a les preguntes:\n",
    "\n",
    "compra = { \"Pomes\" : {\"Qty\": 5, \"€\": 0.42}, \"Peres\" : {\"Qty\": 3, \"€\": 0.66} }\n",
    "\n",
    "+ Afegeix alguna fruita més\n",
    "+ Quant han costat les peres en total?\n",
    "+ Quantes fruites hem comprat en total?\n",
    "+ Quina és la fruita més cara?\n"
   ]
  },
  {
   "cell_type": "code",
   "execution_count": 12,
   "id": "4cd33536",
   "metadata": {},
   "outputs": [],
   "source": [
    "compra = { \"Pomes\" : {\"Qty\": 5, \"€\": 0.42}, \"Peres\" : {\"Qty\": 3, \"€\": 0.66} }\n",
    "#print(compra)"
   ]
  },
  {
   "cell_type": "code",
   "execution_count": 21,
   "id": "bb7a4567",
   "metadata": {},
   "outputs": [
    {
     "name": "stdout",
     "output_type": "stream",
     "text": [
      "{'Pomes': {'Qty': 5, '€': 0.42}, 'Peres': {'Qty': 3, '€': 0.66}, 'Platans': {'Qty': 4, '€': 0.78}, 'Préssecs': {'Qty': 10, '€': 0.71}}\n"
     ]
    }
   ],
   "source": [
    "# afegeix una fruita més\n",
    "compra[\"Platans\"] = {\"Qty\": 4, \"€\": 0.78}\n",
    "compra[\"Préssecs\"] = {\"Qty\": 10, \"€\": 0.71}\n",
    "print(compra)"
   ]
  },
  {
   "cell_type": "code",
   "execution_count": 22,
   "id": "c53d2655",
   "metadata": {},
   "outputs": [
    {
     "name": "stdout",
     "output_type": "stream",
     "text": [
      "1.98\n"
     ]
    }
   ],
   "source": [
    "# quant han costat les peres en total\n",
    "cost_peres = compra[\"Peres\"][\"Qty\"] * compra[\"Peres\"][\"€\"]\n",
    "print(cost_peres)"
   ]
  },
  {
   "cell_type": "code",
   "execution_count": 23,
   "id": "01ec4724",
   "metadata": {},
   "outputs": [
    {
     "name": "stdout",
     "output_type": "stream",
     "text": [
      "22\n"
     ]
    }
   ],
   "source": [
    "# quantes fruites hem comprat en total\n",
    "fruites = 0\n",
    "\n",
    "for v in compra.values():\n",
    "    fruites = fruites + v[\"Qty\"]\n",
    "print(fruites)"
   ]
  },
  {
   "cell_type": "code",
   "execution_count": 24,
   "id": "95635c75",
   "metadata": {},
   "outputs": [
    {
     "name": "stdout",
     "output_type": "stream",
     "text": [
      "Platans\n"
     ]
    }
   ],
   "source": [
    "# quina és la fruita més cara\n",
    "f_cara = \"\"\n",
    "preu = 0\n",
    "\n",
    "for k, v in compra.items():\n",
    "    if v[\"€\"] > preu:\n",
    "        preu = v[\"€\"]\n",
    "        f_cara = k\n",
    "print(f_cara)"
   ]
  }
 ],
 "metadata": {
  "kernelspec": {
   "display_name": "Python 3",
   "language": "python",
   "name": "python3"
  },
  "language_info": {
   "codemirror_mode": {
    "name": "ipython",
    "version": 3
   },
   "file_extension": ".py",
   "mimetype": "text/x-python",
   "name": "python",
   "nbconvert_exporter": "python",
   "pygments_lexer": "ipython3",
   "version": "3.8.8"
  }
 },
 "nbformat": 4,
 "nbformat_minor": 5
}
